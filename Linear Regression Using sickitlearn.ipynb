{
 "cells": [
  {
   "cell_type": "code",
   "execution_count": 1,
   "metadata": {},
   "outputs": [],
   "source": [
    "import numpy as np\n",
    "import pandas as pd\n",
    "import matplotlib.pyplot as plt"
   ]
  },
  {
   "cell_type": "code",
   "execution_count": 8,
   "metadata": {},
   "outputs": [],
   "source": [
    "dfx =pd.read_csv('linearX.csv')\n",
    "dfy =pd.read_csv('linearY.csv')\n",
    "\n",
    "x=dfx.values\n",
    "y=dfy.values\n",
    "\n",
    "x=x.reshape((-1,1))\n",
    "y=y.reshape((-1,1))"
   ]
  },
  {
   "cell_type": "code",
   "execution_count": 9,
   "metadata": {},
   "outputs": [
    {
     "name": "stdout",
     "output_type": "stream",
     "text": [
      "[[ 8. ]\n",
      " [ 9.1]\n",
      " [ 8.4]\n",
      " [ 6.9]\n",
      " [ 7.7]\n",
      " [15.6]\n",
      " [ 7.3]\n",
      " [ 7. ]\n",
      " [ 7.2]\n",
      " [10.1]\n",
      " [11.5]\n",
      " [ 7.1]\n",
      " [10. ]\n",
      " [ 8.9]\n",
      " [ 7.9]\n",
      " [ 5.6]\n",
      " [ 6.3]\n",
      " [ 6.7]\n",
      " [10.4]\n",
      " [ 8.5]\n",
      " [ 7.4]\n",
      " [ 6.3]\n",
      " [ 5.4]\n",
      " [ 8.9]\n",
      " [ 9.4]\n",
      " [ 7.5]\n",
      " [11.9]\n",
      " [ 7.8]\n",
      " [ 7.4]\n",
      " [10.8]\n",
      " [10.2]\n",
      " [ 6.2]\n",
      " [ 7.7]\n",
      " [13.7]\n",
      " [ 8. ]\n",
      " [ 6.7]\n",
      " [ 6.7]\n",
      " [ 7. ]\n",
      " [ 8.3]\n",
      " [ 7.4]\n",
      " [ 9.9]\n",
      " [ 6.1]\n",
      " [ 7. ]\n",
      " [ 5.4]\n",
      " [10.7]\n",
      " [ 7.6]\n",
      " [ 8.9]\n",
      " [ 9.2]\n",
      " [ 6.6]\n",
      " [ 7.2]\n",
      " [ 8. ]\n",
      " [ 7.8]\n",
      " [ 7.9]\n",
      " [ 7. ]\n",
      " [ 7. ]\n",
      " [ 7.6]\n",
      " [ 9.1]\n",
      " [ 9. ]\n",
      " [ 7.9]\n",
      " [ 6.6]\n",
      " [11.9]\n",
      " [ 6.5]\n",
      " [ 7.1]\n",
      " [ 8.8]\n",
      " [ 7.5]\n",
      " [ 7.7]\n",
      " [ 6. ]\n",
      " [10.6]\n",
      " [ 6.6]\n",
      " [ 8.2]\n",
      " [ 7.9]\n",
      " [ 7.1]\n",
      " [ 5.6]\n",
      " [ 6.4]\n",
      " [ 7.5]\n",
      " [ 9.8]\n",
      " [ 7. ]\n",
      " [10.5]\n",
      " [ 7.1]\n",
      " [ 6.2]\n",
      " [ 6.5]\n",
      " [ 7.7]\n",
      " [ 7.2]\n",
      " [ 9.3]\n",
      " [ 8.5]\n",
      " [ 7.7]\n",
      " [ 6.8]\n",
      " [ 7.8]\n",
      " [ 8.7]\n",
      " [ 9.6]\n",
      " [ 7.2]\n",
      " [ 9.3]\n",
      " [ 8.1]\n",
      " [ 6.6]\n",
      " [ 7.8]\n",
      " [10.2]\n",
      " [ 6.1]\n",
      " [ 7.3]\n",
      " [ 7.3]]\n"
     ]
    }
   ],
   "source": [
    "print(x)"
   ]
  },
  {
   "cell_type": "code",
   "execution_count": 4,
   "metadata": {},
   "outputs": [
    {
     "data": {
      "image/png": "[encoded data removed]",
      "text/plain": [
       "<Figure size 432x288 with 1 Axes>"
      ]
     },
     "metadata": {
      "needs_background": "light"
     },
     "output_type": "display_data"
    }
   ],
   "source": [
    "plt.scatter(x,y)\n",
    "plt.show()"
   ]
  },
  {
   "cell_type": "code",
   "execution_count": 6,
   "metadata": {},
   "outputs": [],
   "source": [
    "from sklearn.linear_model import LinearRegression"
   ]
  },
  {
   "cell_type": "code",
   "execution_count": 11,
   "metadata": {},
   "outputs": [],
   "source": [
    "model=LinearRegression()"
   ]
  },
  {
   "cell_type": "code",
   "execution_count": 12,
   "metadata": {},
   "outputs": [
    {
     "data": {
      "text/plain": [
       "LinearRegression()"
      ]
     },
     "execution_count": 12,
     "metadata": {},
     "output_type": "execute_result"
    }
   ],
   "source": [
    "model.fit(x,y)"
   ]
  },
  {
   "cell_type": "code",
   "execution_count": 43,
   "metadata": {},
   "outputs": [
    {
     "name": "stdout",
     "output_type": "stream",
     "text": [
      "[[ 1.        ]\n",
      " [ 1.09183673]\n",
      " [ 1.18367347]\n",
      " [ 1.2755102 ]\n",
      " [ 1.36734694]\n",
      " [ 1.45918367]\n",
      " [ 1.55102041]\n",
      " [ 1.64285714]\n",
      " [ 1.73469388]\n",
      " [ 1.82653061]\n",
      " [ 1.91836735]\n",
      " [ 2.01020408]\n",
      " [ 2.10204082]\n",
      " [ 2.19387755]\n",
      " [ 2.28571429]\n",
      " [ 2.37755102]\n",
      " [ 2.46938776]\n",
      " [ 2.56122449]\n",
      " [ 2.65306122]\n",
      " [ 2.74489796]\n",
      " [ 2.83673469]\n",
      " [ 2.92857143]\n",
      " [ 3.02040816]\n",
      " [ 3.1122449 ]\n",
      " [ 3.20408163]\n",
      " [ 3.29591837]\n",
      " [ 3.3877551 ]\n",
      " [ 3.47959184]\n",
      " [ 3.57142857]\n",
      " [ 3.66326531]\n",
      " [ 3.75510204]\n",
      " [ 3.84693878]\n",
      " [ 3.93877551]\n",
      " [ 4.03061224]\n",
      " [ 4.12244898]\n",
      " [ 4.21428571]\n",
      " [ 4.30612245]\n",
      " [ 4.39795918]\n",
      " [ 4.48979592]\n",
      " [ 4.58163265]\n",
      " [ 4.67346939]\n",
      " [ 4.76530612]\n",
      " [ 4.85714286]\n",
      " [ 4.94897959]\n",
      " [ 5.04081633]\n",
      " [ 5.13265306]\n",
      " [ 5.2244898 ]\n",
      " [ 5.31632653]\n",
      " [ 5.40816327]\n",
      " [ 5.5       ]\n",
      " [ 5.59183673]\n",
      " [ 5.68367347]\n",
      " [ 5.7755102 ]\n",
      " [ 5.86734694]\n",
      " [ 5.95918367]\n",
      " [ 6.05102041]\n",
      " [ 6.14285714]\n",
      " [ 6.23469388]\n",
      " [ 6.32653061]\n",
      " [ 6.41836735]\n",
      " [ 6.51020408]\n",
      " [ 6.60204082]\n",
      " [ 6.69387755]\n",
      " [ 6.78571429]\n",
      " [ 6.87755102]\n",
      " [ 6.96938776]\n",
      " [ 7.06122449]\n",
      " [ 7.15306122]\n",
      " [ 7.24489796]\n",
      " [ 7.33673469]\n",
      " [ 7.42857143]\n",
      " [ 7.52040816]\n",
      " [ 7.6122449 ]\n",
      " [ 7.70408163]\n",
      " [ 7.79591837]\n",
      " [ 7.8877551 ]\n",
      " [ 7.97959184]\n",
      " [ 8.07142857]\n",
      " [ 8.16326531]\n",
      " [ 8.25510204]\n",
      " [ 8.34693878]\n",
      " [ 8.43877551]\n",
      " [ 8.53061224]\n",
      " [ 8.62244898]\n",
      " [ 8.71428571]\n",
      " [ 8.80612245]\n",
      " [ 8.89795918]\n",
      " [ 8.98979592]\n",
      " [ 9.08163265]\n",
      " [ 9.17346939]\n",
      " [ 9.26530612]\n",
      " [ 9.35714286]\n",
      " [ 9.44897959]\n",
      " [ 9.54081633]\n",
      " [ 9.63265306]\n",
      " [ 9.7244898 ]\n",
      " [ 9.81632653]\n",
      " [ 9.90816327]\n",
      " [10.        ]]\n"
     ]
    }
   ],
   "source": [
    "z=np.linspace(1,10,99)\n",
    "z=z.reshape((-1,1))\n",
    "output=model.predict(z)\n",
    "print(z)"
   ]
  },
  {
   "cell_type": "code",
   "execution_count": 34,
   "metadata": {},
   "outputs": [
    {
     "name": "stdout",
     "output_type": "stream",
     "text": [
      "[0.9903092]\n",
      "[[0.00078556]]\n"
     ]
    }
   ],
   "source": [
    "bias=model.intercept_\n",
    "coeff=model.coef_\n",
    "\n",
    "print(bias)\n",
    "print(coeff)"
   ]
  },
  {
   "cell_type": "code",
   "execution_count": 35,
   "metadata": {},
   "outputs": [
    {
     "data": {
      "text/plain": [
       "0.43818504557920035"
      ]
     },
     "execution_count": 35,
     "metadata": {},
     "output_type": "execute_result"
    }
   ],
   "source": [
    "model.score(x,y)"
   ]
  },
  {
   "cell_type": "code",
   "execution_count": 37,
   "metadata": {},
   "outputs": [
    {
     "data": {
      "text/plain": [
       "[<matplotlib.lines.Line2D at 0x7f249dcb7a30>]"
      ]
     },
     "execution_count": 37,
     "metadata": {},
     "output_type": "execute_result"
    },
    {
     "data": {
      "image/png": "[encoded data removed]",
      "text/plain": [
       "<Figure size 432x288 with 1 Axes>"
      ]
     },
     "metadata": {
      "needs_background": "light"
     },
     "output_type": "display_data"
    }
   ],
   "source": [
    "plt.scatter(x,y,label='data')\n",
    "plt.plot(z,output,color='red',label='prediction')"
   ]
  },
  {
   "cell_type": "code",
   "execution_count": null,
   "metadata": {},
   "outputs": [],
   "source": []
  }
 ],
 "metadata": {
  "kernelspec": {
   "display_name": "Python 3",
   "language": "python",
   "name": "python3"
  },
  "language_info": {
   "codemirror_mode": {
    "name": "ipython",
    "version": 3
   },
   "file_extension": ".py",
   "mimetype": "text/x-python",
   "name": "python",
   "nbconvert_exporter": "python",
   "pygments_lexer": "ipython3",
   "version": "3.8.5"
  }
 },
 "nbformat": 4,
 "nbformat_minor": 4
}
